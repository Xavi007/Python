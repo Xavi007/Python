{
 "cells": [
  {
   "cell_type": "code",
   "execution_count": null,
   "id": "a6457330",
   "metadata": {},
   "outputs": [],
   "source": [
    "Q1. Create an empty list."
   ]
  },
  {
   "cell_type": "code",
   "execution_count": 6,
   "id": "df7521ce",
   "metadata": {},
   "outputs": [],
   "source": [
    "my_list = ['watermelon','banana']"
   ]
  },
  {
   "cell_type": "code",
   "execution_count": null,
   "id": "79304e82",
   "metadata": {},
   "outputs": [],
   "source": [
    "Q2. Create a list and add an element to the end of this list."
   ]
  },
  {
   "cell_type": "code",
   "execution_count": 7,
   "id": "2c38f184",
   "metadata": {},
   "outputs": [],
   "source": [
    "my_list.append('apple')"
   ]
  },
  {
   "cell_type": "code",
   "execution_count": null,
   "id": "f1df0cec",
   "metadata": {},
   "outputs": [],
   "source": [
    "Q3. For the above created list print the last element."
   ]
  },
  {
   "cell_type": "code",
   "execution_count": 8,
   "id": "ba0e43f8",
   "metadata": {},
   "outputs": [
    {
     "name": "stdout",
     "output_type": "stream",
     "text": [
      "apple\n"
     ]
    }
   ],
   "source": [
    "print(my_list[-1])"
   ]
  },
  {
   "cell_type": "code",
   "execution_count": null,
   "id": "4a69cefe",
   "metadata": {},
   "outputs": [],
   "source": [
    "Q4. Reverse the above created list."
   ]
  },
  {
   "cell_type": "code",
   "execution_count": 11,
   "id": "eecffc12",
   "metadata": {},
   "outputs": [
    {
     "data": {
      "text/plain": [
       "['apple', 'banana', 'watermelon']"
      ]
     },
     "execution_count": 11,
     "metadata": {},
     "output_type": "execute_result"
    }
   ],
   "source": [
    "my_list[::-1]"
   ]
  },
  {
   "cell_type": "code",
   "execution_count": 12,
   "id": "af227eee",
   "metadata": {},
   "outputs": [],
   "source": [
    "my_list.reverse()"
   ]
  },
  {
   "cell_type": "code",
   "execution_count": 13,
   "id": "c7bd41ab",
   "metadata": {},
   "outputs": [
    {
     "data": {
      "text/plain": [
       "['apple', 'banana', 'watermelon']"
      ]
     },
     "execution_count": 13,
     "metadata": {},
     "output_type": "execute_result"
    }
   ],
   "source": [
    "my_list"
   ]
  },
  {
   "cell_type": "code",
   "execution_count": null,
   "id": "800ec92f",
   "metadata": {},
   "outputs": [],
   "source": [
    "Q5. Sort the above created list."
   ]
  },
  {
   "cell_type": "code",
   "execution_count": 14,
   "id": "c461fa01",
   "metadata": {},
   "outputs": [],
   "source": [
    "my_list.sort()"
   ]
  },
  {
   "cell_type": "code",
   "execution_count": 15,
   "id": "13840202",
   "metadata": {},
   "outputs": [
    {
     "data": {
      "text/plain": [
       "['apple', 'banana', 'watermelon']"
      ]
     },
     "execution_count": 15,
     "metadata": {},
     "output_type": "execute_result"
    }
   ],
   "source": [
    "my_list"
   ]
  },
  {
   "cell_type": "code",
   "execution_count": null,
   "id": "2bdb69eb",
   "metadata": {},
   "outputs": [],
   "source": [
    "Q6. Create a list of your top three favorite movies, then print the second movie title."
   ]
  },
  {
   "cell_type": "code",
   "execution_count": 16,
   "id": "e84a97d0",
   "metadata": {},
   "outputs": [
    {
     "name": "stdout",
     "output_type": "stream",
     "text": [
      "The Godfather\n"
     ]
    }
   ],
   "source": [
    "favorite_movies = ['The Shawshank Redemption', 'The Godfather', 'The Dark Knight']\n",
    "print(favorite_movies[1])"
   ]
  },
  {
   "cell_type": "code",
   "execution_count": null,
   "id": "d0f454f8",
   "metadata": {},
   "outputs": [],
   "source": [
    "Q7. Create a list of your favorite animals, then add a new animal to the list and print the updated list."
   ]
  },
  {
   "cell_type": "code",
   "execution_count": 17,
   "id": "17b8f003",
   "metadata": {},
   "outputs": [
    {
     "name": "stdout",
     "output_type": "stream",
     "text": [
      "['lion', 'tiger', 'cheetah', 'leopard']\n"
     ]
    }
   ],
   "source": [
    "favorite_animals = ['lion', 'tiger', 'cheetah']\n",
    "favorite_animals.append('leopard')\n",
    "print(favorite_animals)"
   ]
  },
  {
   "cell_type": "code",
   "execution_count": null,
   "id": "590af1fb",
   "metadata": {},
   "outputs": [],
   "source": [
    "Q8. Create a list of your favorite cities, then use the index() method to find the position of a specific city on the list and print it."
   ]
  },
  {
   "cell_type": "code",
   "execution_count": 18,
   "id": "0aaf71a7",
   "metadata": {},
   "outputs": [
    {
     "name": "stdout",
     "output_type": "stream",
     "text": [
      "1\n"
     ]
    }
   ],
   "source": [
    "favorite_cities = ['New York', 'Paris', 'London', 'Tokyo']\n",
    "print(favorite_cities.index('Paris'))"
   ]
  },
  {
   "cell_type": "code",
   "execution_count": 20,
   "id": "ee4684b5",
   "metadata": {},
   "outputs": [
    {
     "name": "stdout",
     "output_type": "stream",
     "text": [
      "Paris\n"
     ]
    }
   ],
   "source": [
    "print(favorite_cities[1])"
   ]
  },
  {
   "cell_type": "code",
   "execution_count": null,
   "id": "4f31326d",
   "metadata": {},
   "outputs": [],
   "source": []
  }
 ],
 "metadata": {
  "kernelspec": {
   "display_name": "Python 3 (ipykernel)",
   "language": "python",
   "name": "python3"
  },
  "language_info": {
   "codemirror_mode": {
    "name": "ipython",
    "version": 3
   },
   "file_extension": ".py",
   "mimetype": "text/x-python",
   "name": "python",
   "nbconvert_exporter": "python",
   "pygments_lexer": "ipython3",
   "version": "3.9.12"
  }
 },
 "nbformat": 4,
 "nbformat_minor": 5
}
