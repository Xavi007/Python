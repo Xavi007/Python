{
 "cells": [
  {
   "cell_type": "code",
   "execution_count": null,
   "id": "3f85d697",
   "metadata": {},
   "outputs": [],
   "source": [
    "'''Q1. Write all the conventions being followed while declaring a variable.'''"
   ]
  },
  {
   "cell_type": "code",
   "execution_count": null,
   "id": "ff84d41b",
   "metadata": {},
   "outputs": [],
   "source": [
    "'''In Python, the following conventions are typically followed when declaring a variable:\n",
    "\n",
    "1. Variable names should be written in lowercase letters.\n",
    "2. Words in variable names should be separated by underscores (_). This is known as snake_case notation.\n",
    "3. Variable names should be descriptive and reflect the purpose of the variable.\n",
    "4. Variable names should not begin with a number or contain spaces.\n",
    "5. Avoid using reserved keywords as variable names, such as if, for, while, etc.\n",
    "6. Use CamelCase notation for class names, and snake_case notation for variable names.\n",
    "7. Use all capital letters for constants to indicate that their value should not be changed.\n",
    "8. Use singular names for variables that represent a single item, and plural names for variables that represent a collection of items.\n",
    "9. Avoid using abbreviations unless they are widely recognized and understood.\n",
    "10. Use meaningful prefixes to indicate the data type of the variable, such as str_ for strings, int_ for integers, and bool_ for booleans.'''"
   ]
  },
  {
   "cell_type": "code",
   "execution_count": null,
   "id": "baa304d5",
   "metadata": {},
   "outputs": [],
   "source": [
    "'''Q2. What will happen if we declare a restricted keyword as a variable?'''"
   ]
  },
  {
   "cell_type": "code",
   "execution_count": null,
   "id": "4b59312c",
   "metadata": {},
   "outputs": [],
   "source": [
    "'''If we declare a restricted keyword as a variable in Python, it will result in a syntax error. \n",
    "Restricted keywords, also known as reserved words, are words that are used by Python for specific purposes and cannot be used as variable names or identifiers. \n",
    "These words are part of the Python language syntax and are reserved for specific purposes.'''"
   ]
  },
  {
   "cell_type": "code",
   "execution_count": null,
   "id": "116c9219",
   "metadata": {},
   "outputs": [],
   "source": [
    "'''For example, if we try to declare a variable with the name if in Python, we will get a syntax error:'''"
   ]
  },
  {
   "cell_type": "code",
   "execution_count": 7,
   "id": "b05675e2",
   "metadata": {},
   "outputs": [
    {
     "ename": "SyntaxError",
     "evalue": "invalid syntax (182722112.py, line 1)",
     "output_type": "error",
     "traceback": [
      "\u001b[1;36m  Input \u001b[1;32mIn [7]\u001b[1;36m\u001b[0m\n\u001b[1;33m    if = 10\u001b[0m\n\u001b[1;37m       ^\u001b[0m\n\u001b[1;31mSyntaxError\u001b[0m\u001b[1;31m:\u001b[0m invalid syntax\n"
     ]
    }
   ],
   "source": [
    "if = 10"
   ]
  },
  {
   "cell_type": "code",
   "execution_count": null,
   "id": "289155bd",
   "metadata": {},
   "outputs": [],
   "source": [
    "'''This is because if is a reserved keyword in Python and cannot be used as a variable name.\n",
    "To avoid syntax errors,we should always choose variable names that are not reserved keywords.'''"
   ]
  },
  {
   "cell_type": "code",
   "execution_count": null,
   "id": "b8c1bcd7",
   "metadata": {},
   "outputs": [],
   "source": [
    "'''Q3. Can we actually declare a string as a variable name?'''"
   ]
  },
  {
   "cell_type": "code",
   "execution_count": null,
   "id": "4a1b8a1a",
   "metadata": {},
   "outputs": [],
   "source": [
    "'''No, we cannot declare a string as a variable name in Python. \n",
    "Variable names in Python must follow certain rules and conventions, and using a string as a variable name is not allowed.\n",
    "For example, we can declare a variable with the name my_var like this:'''"
   ]
  },
  {
   "cell_type": "code",
   "execution_count": 11,
   "id": "ae202bda",
   "metadata": {},
   "outputs": [],
   "source": [
    "my_var = 10"
   ]
  },
  {
   "cell_type": "code",
   "execution_count": null,
   "id": "12d5a8f3",
   "metadata": {},
   "outputs": [],
   "source": [
    "'''Q4. Is it possible for us to declare “_” as a variable? If so, then write an example of it.'''"
   ]
  },
  {
   "cell_type": "code",
   "execution_count": null,
   "id": "8c2f7694",
   "metadata": {},
   "outputs": [],
   "source": [
    "'''Yes, it is possible to declare an underscore character (_) as a variable in Python. \n",
    "In fact, the underscore character has a special meaning in Python and is often used as a variable name'''"
   ]
  },
  {
   "cell_type": "code",
   "execution_count": 12,
   "id": "e37b9e66",
   "metadata": {},
   "outputs": [
    {
     "name": "stdout",
     "output_type": "stream",
     "text": [
      "2\n"
     ]
    }
   ],
   "source": [
    "my_tuple = (1, 2, 3)\n",
    "_, my_variable, _ = my_tuple\n",
    "\n",
    "print(my_variable)"
   ]
  },
  {
   "cell_type": "code",
   "execution_count": null,
   "id": "91b1ab74",
   "metadata": {},
   "outputs": [],
   "source": [
    "'''Q5. Using an example, explain how the variables in python are dynamic in nature.'''"
   ]
  },
  {
   "cell_type": "code",
   "execution_count": 13,
   "id": "c25d339f",
   "metadata": {},
   "outputs": [
    {
     "name": "stdout",
     "output_type": "stream",
     "text": [
      "<class 'int'>\n",
      "<class 'str'>\n"
     ]
    }
   ],
   "source": [
    "# variable x is assigned an integer value\n",
    "x = 5\n",
    "\n",
    "# the type of x is integer\n",
    "print(type(x)) # output: <class 'int'>\n",
    "\n",
    "# variable x is assigned a string value\n",
    "x = \"Hello, world!\"\n",
    "\n",
    "# the type of x is now string\n",
    "print(type(x)) # output: <class 'str'>"
   ]
  },
  {
   "cell_type": "code",
   "execution_count": null,
   "id": "4042b230",
   "metadata": {},
   "outputs": [],
   "source": [
    "'''This example shows how variables in Python are dynamic in nature,\n",
    "meaning that they can be assigned values of different data types during runtime,\n",
    "and their type can change dynamically.'''"
   ]
  }
 ],
 "metadata": {
  "kernelspec": {
   "display_name": "Python 3 (ipykernel)",
   "language": "python",
   "name": "python3"
  },
  "language_info": {
   "codemirror_mode": {
    "name": "ipython",
    "version": 3
   },
   "file_extension": ".py",
   "mimetype": "text/x-python",
   "name": "python",
   "nbconvert_exporter": "python",
   "pygments_lexer": "ipython3",
   "version": "3.9.12"
  }
 },
 "nbformat": 4,
 "nbformat_minor": 5
}
