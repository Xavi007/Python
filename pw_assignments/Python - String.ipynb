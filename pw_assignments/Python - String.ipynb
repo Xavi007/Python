{
 "cells": [
  {
   "cell_type": "code",
   "execution_count": null,
   "id": "80887cb4",
   "metadata": {},
   "outputs": [],
   "source": [
    "Q1.  How can we store a single quote (‘) as a string in a variable?"
   ]
  },
  {
   "cell_type": "code",
   "execution_count": 2,
   "id": "0bd17f9e",
   "metadata": {},
   "outputs": [],
   "source": [
    "my_string = \"This string contains a single quote '\""
   ]
  },
  {
   "cell_type": "code",
   "execution_count": 3,
   "id": "00780a77",
   "metadata": {},
   "outputs": [],
   "source": [
    "my_string = 'This string contains a single quote \\''"
   ]
  },
  {
   "cell_type": "code",
   "execution_count": null,
   "id": "fa418de4",
   "metadata": {},
   "outputs": [],
   "source": [
    "Q2.  Refer the below variable:\n",
    "x = 'a'\n",
    "Here, is x a character type or string type variable? Support your answer with an explanation."
   ]
  },
  {
   "cell_type": "code",
   "execution_count": null,
   "id": "f0e70d4f",
   "metadata": {},
   "outputs": [],
   "source": [
    "In Python, the concept of a character type is not explicitly defined. \n",
    "Instead, a single character is treated as a string of length one.\n",
    "Therefore, the variable x in the example x = 'a' is a string type variable.\n",
    "Although some programming languages like C++ have a separate char data type to represent a single character,\n",
    "in Python, a single character is represented as a string of length one. In other words, a string is a sequence of characters,\n",
    "and a sequence with just one character is still a sequence.\n",
    "Therefore, the variable x in the given example is a string type variable that contains a single character, 'a'."
   ]
  },
  {
   "cell_type": "code",
   "execution_count": null,
   "id": "1328843b",
   "metadata": {},
   "outputs": [],
   "source": [
    "Q3.  Apply the following functions on th1s var1able: ‘Welcome to Python foundation course'\n",
    "1. find()\n",
    "2. count()\n",
    "3. len()\n",
    "4. Concatenation()\n",
    "Note: You can use your cho1ce of parameters. But make sure it is correct."
   ]
  },
  {
   "cell_type": "code",
   "execution_count": null,
   "id": "94c36bf3",
   "metadata": {},
   "outputs": [],
   "source": [
    "find(): This function returns the index of the first occurrence of a given substring within the string.\n",
    "If the substring is not found, it returns -1. For example:"
   ]
  },
  {
   "cell_type": "code",
   "execution_count": 4,
   "id": "8440076e",
   "metadata": {},
   "outputs": [
    {
     "name": "stdout",
     "output_type": "stream",
     "text": [
      "11\n"
     ]
    }
   ],
   "source": [
    "string = \"Welcome to Python foundation course\"\n",
    "index = string.find(\"Python\")\n",
    "print(index)  # Output: 11"
   ]
  },
  {
   "cell_type": "code",
   "execution_count": null,
   "id": "85238c6c",
   "metadata": {},
   "outputs": [],
   "source": [
    "count(): This function returns the number of occurrences of a given substring within the string.\n",
    "For example:"
   ]
  },
  {
   "cell_type": "code",
   "execution_count": 7,
   "id": "29b3e7dd",
   "metadata": {},
   "outputs": [
    {
     "name": "stdout",
     "output_type": "stream",
     "text": [
      "6\n"
     ]
    }
   ],
   "source": [
    "string = \"Welcome to Python foundation course\"\n",
    "count = string.count(\"o\")\n",
    "print(count)  # Output: 6"
   ]
  },
  {
   "cell_type": "code",
   "execution_count": null,
   "id": "db343aee",
   "metadata": {},
   "outputs": [],
   "source": [
    "len(): This function returns the length of the string, i.e., the number of characters in the string.\n",
    "For example:"
   ]
  },
  {
   "cell_type": "code",
   "execution_count": 8,
   "id": "9e0e0c9d",
   "metadata": {},
   "outputs": [
    {
     "name": "stdout",
     "output_type": "stream",
     "text": [
      "35\n"
     ]
    }
   ],
   "source": [
    "string = \"Welcome to Python foundation course\"\n",
    "length = len(string)\n",
    "print(length)  # Output: 35"
   ]
  },
  {
   "cell_type": "code",
   "execution_count": null,
   "id": "3a686e7d",
   "metadata": {},
   "outputs": [],
   "source": [
    "Concatenation(): This function is used to join two or more strings into a single string. \n",
    "In Python, we can use the + operator to concatenate two or more strings.\n",
    "For example:"
   ]
  },
  {
   "cell_type": "code",
   "execution_count": 9,
   "id": "28cb086e",
   "metadata": {},
   "outputs": [
    {
     "name": "stdout",
     "output_type": "stream",
     "text": [
      "Welcome to Python foundation course\n"
     ]
    }
   ],
   "source": [
    "string1 = \"Welcome to\"\n",
    "string2 = \"Python foundation course\"\n",
    "concatenated_string = string1 + \" \" + string2\n",
    "print(concatenated_string)  # Output: \"Welcome to Python foundation course\""
   ]
  },
  {
   "cell_type": "code",
   "execution_count": null,
   "id": "9f925b13",
   "metadata": {},
   "outputs": [],
   "source": [
    "Q4   For the variable: word = ‘PanaJi@12256'\n",
    "Calculate the following:\n",
    "(a) Total number of alphabets in lowercase\n",
    "(b) Total number of alphabets in uppercase\n",
    "(c) Total number of numerical in string"
   ]
  },
  {
   "cell_type": "code",
   "execution_count": null,
   "id": "4d37103a",
   "metadata": {},
   "outputs": [],
   "source": [
    "(a) Total number of alphabets in lowercase:\n",
    "We can use a for loop to iterate through each character in the string and check if it is a lowercase\n",
    "alphabet using the islower() function. "
   ]
  },
  {
   "cell_type": "code",
   "execution_count": 10,
   "id": "6256c987",
   "metadata": {},
   "outputs": [
    {
     "name": "stdout",
     "output_type": "stream",
     "text": [
      "Total number of alphabets in lowercase: 4\n"
     ]
    }
   ],
   "source": [
    "word = 'PanaJi@12256'\n",
    "count = 0\n",
    "for char in word:\n",
    "    if char.islower():\n",
    "        count += 1\n",
    "print(\"Total number of alphabets in lowercase:\", count)"
   ]
  },
  {
   "cell_type": "code",
   "execution_count": null,
   "id": "5ad9914f",
   "metadata": {},
   "outputs": [],
   "source": [
    "(b) Total number of alphabets in uppercase:\n",
    "Similar to (a), we can use a for loop to iterate through each character in the string and check if it is\n",
    "an uppercase alphabet using the isupper() function."
   ]
  },
  {
   "cell_type": "code",
   "execution_count": 11,
   "id": "10226e86",
   "metadata": {},
   "outputs": [
    {
     "name": "stdout",
     "output_type": "stream",
     "text": [
      "Total number of alphabets in uppercase: 2\n"
     ]
    }
   ],
   "source": [
    "word = 'PanaJi@12256'\n",
    "count = 0\n",
    "for char in word:\n",
    "    if char.isupper():\n",
    "        count += 1\n",
    "print(\"Total number of alphabets in uppercase:\", count)"
   ]
  },
  {
   "cell_type": "code",
   "execution_count": null,
   "id": "3e249351",
   "metadata": {},
   "outputs": [],
   "source": [
    "(c) Total number of numerical in string:\n",
    "We can use a for loop to iterate through each character in the string and check if it is a digit using \n",
    "the isdigit() function."
   ]
  },
  {
   "cell_type": "code",
   "execution_count": 12,
   "id": "6702e14d",
   "metadata": {},
   "outputs": [
    {
     "name": "stdout",
     "output_type": "stream",
     "text": [
      "Total number of numerical in string: 5\n"
     ]
    }
   ],
   "source": [
    "word = 'PanaJi@12256'\n",
    "count = 0\n",
    "for char in word:\n",
    "    if char.isdigit():\n",
    "        count += 1\n",
    "print(\"Total number of numerical in string:\", count)"
   ]
  },
  {
   "cell_type": "code",
   "execution_count": null,
   "id": "74c28a6f",
   "metadata": {},
   "outputs": [],
   "source": [
    "Q5. Write a code to store a numerical value inside a variable then convert it into string"
   ]
  },
  {
   "cell_type": "code",
   "execution_count": 13,
   "id": "9b6fe661",
   "metadata": {},
   "outputs": [
    {
     "name": "stdout",
     "output_type": "stream",
     "text": [
      "num is of type: <class 'int'>\n",
      "num_str is of type: <class 'str'>\n"
     ]
    }
   ],
   "source": [
    "# Storing numerical value in a variable\n",
    "num = 42\n",
    "\n",
    "# Converting the numerical value to a string\n",
    "num_str = str(num)\n",
    "\n",
    "# Printing the variable types to verify the conversion\n",
    "print(\"num is of type:\", type(num))\n",
    "print(\"num_str is of type:\", type(num_str))\n"
   ]
  },
  {
   "cell_type": "code",
   "execution_count": null,
   "id": "3bbfb073",
   "metadata": {},
   "outputs": [],
   "source": []
  }
 ],
 "metadata": {
  "kernelspec": {
   "display_name": "Python 3 (ipykernel)",
   "language": "python",
   "name": "python3"
  },
  "language_info": {
   "codemirror_mode": {
    "name": "ipython",
    "version": 3
   },
   "file_extension": ".py",
   "mimetype": "text/x-python",
   "name": "python",
   "nbconvert_exporter": "python",
   "pygments_lexer": "ipython3",
   "version": "3.9.12"
  }
 },
 "nbformat": 4,
 "nbformat_minor": 5
}
